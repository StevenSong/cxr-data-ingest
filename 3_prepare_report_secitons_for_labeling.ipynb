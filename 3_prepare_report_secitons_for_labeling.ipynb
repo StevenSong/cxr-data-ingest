{
 "cells": [
  {
   "cell_type": "code",
   "execution_count": null,
   "id": "0",
   "metadata": {},
   "outputs": [],
   "source": [
    "import os\n",
    "import pandas as pd"
   ]
  },
  {
   "cell_type": "code",
   "execution_count": null,
   "id": "1",
   "metadata": {},
   "outputs": [],
   "source": [
    "output_dir = \"/opt/gpudata/cxr-derived\"\n",
    "\n",
    "data = {\n",
    "    \"chexpertplus\": pd.read_csv(\"/opt/gpudata/chexpertplus/report.csv\"),\n",
    "    \"mimic\": pd.read_csv(\"/opt/gpudata/mimic-cxr/mimic_cxr_sectioned.csv\"),\n",
    "    # \"openi\": pd.read_csv(\"/opt/gpudata/openi/reports.csv\"), # haven't prepared study IDs for OpenI\n",
    "}"
   ]
  },
  {
   "cell_type": "code",
   "execution_count": null,
   "id": "2",
   "metadata": {},
   "outputs": [],
   "source": [
    "# apply some custom filtering\n",
    "for section in [\"findings\", \"impression\"]:\n",
    "    for name, df in data.items():\n",
    "        study_col = \"study\" if \"study\" in df else \"study_id\"\n",
    "        temp = df[[study_col, section]].copy()\n",
    "        temp[section] = temp[section].fillna(\"\").str.strip()\n",
    "        temp = temp[temp[section].str.len() > 3].reset_index(drop=True)\n",
    "        temp = temp.rename(columns={study_col: \"study_id\"})\n",
    "        temp[section].to_csv(os.path.join(output_dir, f\"{name}-{section}.csv\"), index=False, header=False)\n",
    "        temp[\"study_id\"].to_csv(os.path.join(output_dir, f\"{name}-{section}-ids.csv\"), index=False, header=True)"
   ]
  },
  {
   "cell_type": "code",
   "execution_count": null,
   "id": "3",
   "metadata": {},
   "outputs": [],
   "source": []
  }
 ],
 "metadata": {
  "kernelspec": {
   "display_name": "labrag",
   "language": "python",
   "name": "python3"
  },
  "language_info": {
   "codemirror_mode": {
    "name": "ipython",
    "version": 3
   },
   "file_extension": ".py",
   "mimetype": "text/x-python",
   "name": "python",
   "nbconvert_exporter": "python",
   "pygments_lexer": "ipython3",
   "version": "3.10.13"
  }
 },
 "nbformat": 4,
 "nbformat_minor": 5
}
