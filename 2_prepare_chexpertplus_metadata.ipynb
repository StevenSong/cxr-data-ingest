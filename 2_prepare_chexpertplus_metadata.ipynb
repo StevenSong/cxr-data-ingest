{
 "cells": [
  {
   "cell_type": "markdown",
   "id": "0",
   "metadata": {},
   "source": [
    "# Prepare CheXpert+ Dataset\n",
    "\n",
    "This notebook converts the data format of CheXpert+ tables into a MIMIC-CXR style that is expected by our code. The exception to this is we leave the original image path structure intact and include logic to handle image loading from source. For the data tables, we require the following:\n",
    "* Across all tables, we require patient, study, and dicom IDs to be globally unique.\n",
    "* For the metadata table, we use columns:\n",
    "    * `subject_id`\n",
    "    * `study_id`\n",
    "    * `dicom_id` - **unique primary key**\n",
    "    * `ViewPosition` - column denoting the xray view\n",
    "* For the splits table, we use columns:\n",
    "    * `subject_id`\n",
    "    * `study_id`\n",
    "    * `dicom_id` - **unique primary key**\n",
    "    * `split` - where the values for split should be one of:\n",
    "        * `train`\n",
    "        * `validate`\n",
    "        * `test`\n",
    "* For the report table, we use columns:\n",
    "    * `study_id` - **unique primary key**, only 1 report per study\n",
    "    * `findings`\n",
    "    * `impression`"
   ]
  },
  {
   "cell_type": "code",
   "execution_count": null,
   "id": "1",
   "metadata": {},
   "outputs": [],
   "source": [
    "import os\n",
    "import pandas as pd\n",
    "\n",
    "df = pd.read_csv(\"/opt/gpudata/chexpertplus/df_chexpert_plus_240401.csv\")\n",
    "output_dir = \"/opt/gpudata/chexpertplus\""
   ]
  },
  {
   "cell_type": "code",
   "execution_count": null,
   "id": "2",
   "metadata": {},
   "outputs": [],
   "source": [
    "# create globally unique study and dicom IDs\n",
    "ids = df[\"path_to_image\"].str.split(\"/\")\n",
    "df[\"subject_id\"] = ids.str[1]\n",
    "df[\"study_id\"] = ids.str[1] + \"_\" + ids.str[2]\n",
    "df[\"dicom_id\"] = ids.str[1] + \"_\" + ids.str[2] + \"_\" + ids.str[3].str.split(\".\").str[0] # remove file ext"
   ]
  },
  {
   "cell_type": "code",
   "execution_count": null,
   "id": "3",
   "metadata": {},
   "outputs": [],
   "source": [
    "# patient32368 image corrupted, omit\n",
    "df = df[df[\"subject_id\"] != \"patient32368\"].reset_index(drop=True)"
   ]
  },
  {
   "cell_type": "code",
   "execution_count": null,
   "id": "4",
   "metadata": {},
   "outputs": [],
   "source": [
    "# derive new validation split from the training set, use provided validation split as test split\n",
    "train_subjects = df.loc[df[\"split\"] == \"train\", \"subject_id\"].drop_duplicates()\n",
    "new_validate = set(train_subjects.sample(n=400, replace=False, random_state=42))\n",
    "df[\"split\"] = df[\"split\"].replace({\"valid\": \"test\"})\n",
    "df.loc[df[\"subject_id\"].isin(new_validate), \"split\"] = \"validate\""
   ]
  },
  {
   "cell_type": "code",
   "execution_count": null,
   "id": "5",
   "metadata": {},
   "outputs": [],
   "source": [
    "split_df = df[[\"subject_id\", \"study_id\", \"dicom_id\", \"split\"]]\n",
    "metadata_df = df[[\"subject_id\", \"study_id\", \"dicom_id\", \"frontal_lateral\", \"ap_pa\"]].rename(columns={\"ap_pa\": \"ViewPosition\"})\n",
    "report_df = df[[\"study_id\", \"section_findings\", \"section_impression\"]].rename(columns={\n",
    "    \"section_findings\": \"findings\",\n",
    "    \"section_impression\": \"impression\",\n",
    "})"
   ]
  },
  {
   "cell_type": "code",
   "execution_count": null,
   "id": "6",
   "metadata": {},
   "outputs": [],
   "source": [
    "# view position derived from ap_pa column which is only used if image is frontal\n",
    "# populate missing values from more general frontal_lateral columns\n",
    "metadata_df[\"ViewPosition\"] = metadata_df[\"ViewPosition\"].where(metadata_df[\"ViewPosition\"].notna(), metadata_df[\"frontal_lateral\"])"
   ]
  },
  {
   "cell_type": "code",
   "execution_count": null,
   "id": "7",
   "metadata": {},
   "outputs": [],
   "source": [
    "# chexpertplus deidentification created near identical duplicates of reports relating to a single study\n",
    "# see: https://github.com/Stanford-AIMI/chexpert-plus/issues/13\n",
    "# remove those duplicates, arbitrarily keeping the first\n",
    "report_df = report_df.sort_values(\"study_id\").drop_duplicates(\"study_id\", keep=\"first\").reset_index(drop=True)\n",
    "split_df = split_df.sort_values(\"dicom_id\").reset_index(drop=True)\n",
    "metadata_df = metadata_df.sort_values(\"dicom_id\").reset_index(drop=True)"
   ]
  },
  {
   "cell_type": "code",
   "execution_count": null,
   "id": "8",
   "metadata": {},
   "outputs": [],
   "source": [
    "assert report_df[\"study_id\"].is_unique\n",
    "assert split_df[\"dicom_id\"].is_unique\n",
    "assert metadata_df[\"dicom_id\"].is_unique"
   ]
  },
  {
   "cell_type": "code",
   "execution_count": null,
   "id": "9",
   "metadata": {},
   "outputs": [],
   "source": [
    "split_df.to_csv(os.path.join(output_dir, \"split.csv\"), index=False)\n",
    "metadata_df.to_csv(os.path.join(output_dir, \"metadata.csv\"), index=False)\n",
    "report_df.to_csv(os.path.join(output_dir, \"report.csv\"), index=False)"
   ]
  },
  {
   "cell_type": "code",
   "execution_count": null,
   "id": "10",
   "metadata": {},
   "outputs": [],
   "source": []
  }
 ],
 "metadata": {
  "kernelspec": {
   "display_name": "labrag",
   "language": "python",
   "name": "python3"
  },
  "language_info": {
   "codemirror_mode": {
    "name": "ipython",
    "version": 3
   },
   "file_extension": ".py",
   "mimetype": "text/x-python",
   "name": "python",
   "nbconvert_exporter": "python",
   "pygments_lexer": "ipython3",
   "version": "3.10.13"
  }
 },
 "nbformat": 4,
 "nbformat_minor": 5
}
