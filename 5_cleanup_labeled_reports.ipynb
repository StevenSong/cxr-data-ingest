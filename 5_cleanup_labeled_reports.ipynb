{
 "cells": [
  {
   "cell_type": "code",
   "execution_count": null,
   "id": "0",
   "metadata": {},
   "outputs": [],
   "source": [
    "import os\n",
    "import pandas as pd"
   ]
  },
  {
   "cell_type": "code",
   "execution_count": null,
   "id": "1",
   "metadata": {},
   "outputs": [],
   "source": [
    "output_dir = \"/opt/gpudata/cxr-derived\"\n",
    "datasets = [\"chexpertplus\", \"mimic\"]\n",
    "sections = [\"findings\", \"impression\"]"
   ]
  },
  {
   "cell_type": "code",
   "execution_count": null,
   "id": "2",
   "metadata": {},
   "outputs": [],
   "source": [
    "# apply some custom filtering\n",
    "for dataset in datasets:\n",
    "    for section in sections:\n",
    "        labeled = pd.read_csv(os.path.join(output_dir, f\"{dataset}-{section}-labels.csv\"))\n",
    "        ids = pd.read_csv(os.path.join(output_dir, f\"{dataset}-{section}-ids.csv\"))[\"study_id\"]\n",
    "        if dataset == \"mimic\" and ids.dtype == int:\n",
    "            ids = \"s\" + ids.astype(str)\n",
    "        cols = labeled.columns\n",
    "        labeled[\"study_id\"] = ids\n",
    "        labeled = labeled[[\"study_id\"] + cols.to_list()]\n",
    "        labeled.to_csv(os.path.join(output_dir, f\"{dataset}-{section}-labels.csv\"), index=False)"
   ]
  },
  {
   "cell_type": "code",
   "execution_count": null,
   "id": "3",
   "metadata": {},
   "outputs": [],
   "source": []
  }
 ],
 "metadata": {
  "kernelspec": {
   "display_name": "labrag",
   "language": "python",
   "name": "python3"
  },
  "language_info": {
   "codemirror_mode": {
    "name": "ipython",
    "version": 3
   },
   "file_extension": ".py",
   "mimetype": "text/x-python",
   "name": "python",
   "nbconvert_exporter": "python",
   "pygments_lexer": "ipython3",
   "version": "3.10.13"
  }
 },
 "nbformat": 4,
 "nbformat_minor": 5
}
